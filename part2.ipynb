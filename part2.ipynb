{
 "cells": [
  {
   "cell_type": "code",
   "execution_count": 1,
   "metadata": {},
   "outputs": [],
   "source": [
    "import codecs\n",
    "import pandas as pd\n",
    "\n",
    "train= pd.read_csv('train+.csv', sep=',',engine='c')\n",
    "\n",
    "test=pd.read_csv('test+.csv', sep=',',engine='c')\n",
    "\n",
    "train=train.drop(['Unnamed: 0'],axis=1)\n",
    "test=test.drop(['Unnamed: 0'],axis=1)\n"
   ]
  },
  {
   "cell_type": "code",
   "execution_count": 2,
   "metadata": {},
   "outputs": [],
   "source": [
    "import featuretools as ft\n",
    " \n",
    "# Entity Setを作成\n",
    "es = ft.EntitySet(id='entityset') # RDBで言う所のスキーマ"
   ]
  },
  {
   "cell_type": "code",
   "execution_count": null,
   "metadata": {},
   "outputs": [],
   "source": [
    "es = es.entity_from_dataframe(entity_id=\"train\",\n",
    "                              dataframe=train,\n",
    "                              index = 'train_index', # 新しく作るインデックスの名前を指定\n",
    "                              make_index=True, # 新しくキーを作成する。\n",
    "                              variable_types={\"shop_id\": ft.variable_types.Id,\n",
    "                                              \"item_id\": ft.variable_types.Id\n",
    "                                             }\n",
    "                             )"
   ]
  },
  {
   "cell_type": "code",
   "execution_count": null,
   "metadata": {},
   "outputs": [],
   "source": []
  }
 ],
 "metadata": {
  "kernelspec": {
   "display_name": "Python 3",
   "language": "python",
   "name": "python3"
  },
  "language_info": {
   "codemirror_mode": {
    "name": "ipython",
    "version": 3
   },
   "file_extension": ".py",
   "mimetype": "text/x-python",
   "name": "python",
   "nbconvert_exporter": "python",
   "pygments_lexer": "ipython3",
   "version": "3.7.0"
  }
 },
 "nbformat": 4,
 "nbformat_minor": 2
}
